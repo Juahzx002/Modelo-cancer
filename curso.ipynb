{
  "nbformat": 4,
  "nbformat_minor": 0,
  "metadata": {
    "colab": {
      "provenance": [],
      "authorship_tag": "ABX9TyOA24bB7Kz5LUL0fpLSScZe",
      "include_colab_link": true
    },
    "kernelspec": {
      "name": "python3",
      "display_name": "Python 3"
    },
    "language_info": {
      "name": "python"
    }
  },
  "cells": [
    {
      "cell_type": "markdown",
      "metadata": {
        "id": "view-in-github",
        "colab_type": "text"
      },
      "source": [
        "<a href=\"https://colab.research.google.com/github/Juahzx002/Modelo-cancer/blob/main/curso.ipynb\" target=\"_parent\"><img src=\"https://colab.research.google.com/assets/colab-badge.svg\" alt=\"Open In Colab\"/></a>"
      ]
    },
    {
      "cell_type": "markdown",
      "source": [],
      "metadata": {
        "id": "F6N85R2kHefy"
      }
    },
    {
      "cell_type": "code",
      "source": [
        "# cada que vayamos a trabajr un machine con python para Ia avanzada importamos librerias esenciales\n",
        "import numpy as np\n",
        "import pandas as pd\n",
        "#frameork de trabajo pesado\n",
        "import matplotlib.pyplot as plt\n",
        "import seaborn as sns\n",
        "# -----importacion-------\n",
        "from sklearn.model_selection import train_test_split\n",
        "from sklearn.preprocessing import StandardScaler\n",
        "#basado para clasificar, buqueda ramdons de los productos que hayan(predicitvos van hacer mas precisos)\n",
        "from sklearn.ensemble import RandomForestClassifier\n",
        "#\n",
        "from sklearn.metrics import confusion_matrix, classification_report, accuracy_score\n",
        "from sklearn.datasets import load_breast_cancer\n",
        "#------Configuracion de graficos--------\n",
        "plt.style.use('ggplot')\n",
        "%matplotlib inline\n",
        "#-----------cargar y explarar datos----\n",
        "print(\"======1 Cargando & explorando\")\n",
        "data = load_breast_cancer()\n",
        "df = pd.DataFrame(data.data, columns=data.feature_names)\n",
        "#conviertelos datos en binario\n",
        "df['target'] = data.target #sirve para cargar un arrelgo antes de la limpieza\n",
        "print(\"\\nPrimeras 5 lineas \")\n",
        "data=load_breast_cancer()\n",
        "print(df.head())\n",
        "print(\"\\Informacio del datasset\")\n",
        "print(df.info())\n",
        "print(\"\\nInformacion descriptiva\")\n",
        "print(df.describe())\n",
        "#----------Visualizacion-------\n",
        "print(\"\\Vizualizar datos\")\n",
        "plt.figure(figsize=(12,8))\n",
        "sns.countplot(x= 'target', data=df)\n",
        "plt.title(\"Distribucion de casos (0: maligno 1:Maligno)\")\n",
        "plt.show()\n",
        "#-HIstograma de caracteristicas---\n",
        "df.drop('target', axis=1).hist(bins=20, figsize=(20,15))\n",
        "plt.suptitle(\"Histograma de caracteristicas\", y=1.02)\n",
        "plt.show()\n",
        "#--Matriz de crelacioin---\n",
        "plt.figure(figsize=(15,10))\n",
        "#mapeamos informacion y cortamos\n",
        "sns.heatmap(df.corr(), annot=False, cmap='coolwarm')\n",
        "plt.title(\"Matriz de correlacion\")\n",
        "plt.show()\n",
        "#--preproceso de datos\n",
        "print(\"\\nPreprocesamiento de datos\")\n",
        "X = df.drop('target', axis=1)\n",
        "y = df['target']\n",
        "#dividir en conjuntos para entrenamientos y pruebas\n",
        "X_train, X_test, y_train, y_test = train_test_split(X, y, test_size=0.3, random_state=42)\n",
        "#escalar caracteristicas\n",
        "scaler = StandardScaler()\n",
        "X_train = scaler.fit_transform(X_train)\n",
        "X_test = scaler.transform(X_test)\n",
        "print('=====Salidas======')\n",
        "print('\\nSForma de los datos de entrenamiento', {X_train.shape})\n",
        "print(f'Forma de los datos de prueba', {X_test.shape})\n",
        "#entrenamiento del modelo\n",
        "print(\"\\nEntrenamiento del modelo\")\n",
        "model = RandomForestClassifier(n_estimators=100,random_state=42)\n",
        "model.fit(X_train, y_train)\n",
        "#evaluacion del modelo\n",
        "print(\"=====5: Evaluacion del modelo\")\n",
        "y_pred = model.predict(X_test)\n",
        "print('\\nReporte de clasificacion=====')\n",
        "print(classification_report(y_test, y_pred))\n",
        "#======================0\n",
        "print('Matriz de confusion')\n",
        "plt.figure(figsize=(8,6))\n",
        "sns.heatmap(confusion_matrix(y_test, y_pred), annot=True, fmt='d', cmap='Blues')\n",
        "plt.title('matriz de confusión: ')\n",
        "plt.xlabel('Predicho')\n",
        "plt.ylabel('Real')\n",
        "plt.show()\n",
        "# -----------------------------------------\n",
        "print(f\"Exactitud del modelo{accuracy_score(y_test, y_pred):.2f}\")\n",
        "#-------Importancia de las caracteristicas-----\n",
        "print(\"\\n===6. Importancia de las características====\")\n",
        "feature_importance = pd.Series(model.feature_importances_,index=data.feature_names)\n",
        "feature_importance.nlargest(10).plot(kind='barh', figsize=(10, 8))\n",
        "plt.title('Importancia de las características')\n",
        "plt.show()\n",
        "#predicción de ejemplo\n",
        "print(\"\\n====7 predicción de ejemplo ===\")\n",
        "sample = x_test[0].reshape(1,-1)\n",
        "prediccion=model.predict(sample)\n",
        "print(f\"\\nPredicción para muestra de ejemplo o de prueba: {'Benigno' if prediccion[0] == 1 else 'Malingo'}\")\n",
        "print(f\"Etiqueta real: {'Benigno' if y_test.iloc[0] == 1 else 'Maligno'}\")"
      ],
      "metadata": {
        "id": "vU0FL0Ntm5xa"
      },
      "execution_count": null,
      "outputs": []
    }
  ]
}